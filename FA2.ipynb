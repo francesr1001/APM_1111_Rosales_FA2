{
 "cells": [
  {
   "cell_type": "markdown",
   "id": "d61a1c1b",
   "metadata": {},
   "source": [
    "\n",
    "        \n",
    "<div> \n",
    "\t\t\t<h2 style =\" margin-top: 5px;\" >&emsp;&emsp;&emsp;&emsp;Name: Frances Aneth Rosales <br> &emsp;&emsp;&emsp;&emsp;Student Number: 2021044631  </h2>\n",
    "</div>\n",
    "\t\t<br><br><br>\n"
   ]
  },
  {
   "cell_type": "markdown",
   "id": "eeb24152",
   "metadata": {},
   "source": [
    "# 3.49\n",
    "<div style=\"text-align: center;\">\n",
    "<span style=\"color: blue;\">$\\sum_{j=1}^{N} (X_j-1)^2$ </span> =<span style=\"color: green;\"> $  \\sum_{j=1}^{N} X_j^2 - 2 \\left(\\sum_{j=1}^{N} X_j\\right) + N $</span>\n",
    "</div>\n",
    "\n",
    "To show the equality of the equation above, we can use the <b> inductive method </b>.\n",
    "\n",
    "\n"
   ]
  },
  {
   "cell_type": "markdown",
   "id": "b66785c9",
   "metadata": {},
   "source": [
    "First, let's get the inductive form of our equation. <br> <div style=\"text-align: center;\">\n",
    "<span style=\"color: blue;\">$\\sum_{j=1}^{N} (X_j-1)^2$</span> \n",
    "</div>\n",
    "<i>inductive method </i>\n",
    "<span style=\"color: blue;\">\n",
    "\\begin{align*}\n",
    "\\sum_{j=1}^{N+1} (X_{j}-1)^2 &= \\sum_{j=1}^{N} (X_{j}-1)^2 + (X_{N+1}-1)^2 \\\\\n",
    "&= \\sum_{j=1}^{N} X_j^2 - 2 \\left(\\sum_{j=1}^{N} X_j\\right) + N + (X_{N+1}-1)^2\n",
    "\\end{align*}\n",
    "</span >"
   ]
  },
  {
   "cell_type": "markdown",
   "id": "e3920353",
   "metadata": {},
   "source": [
    "Now, let's get the inductive form our right hand equation. <br> <div style=\"text-align: center;\">\n",
    "<span style=\"color: green;\"> $  \\sum_{j=1}^{N} X_j^2 - 2 \\left(\\sum_{j=1}^{N} X_j\\right) + N $</span>\n",
    "</div>\n",
    "<i>inductive method </i>\n",
    "\n",
    "<span style=\"color: green;\">\n",
    "\\begin{align*}\n",
    "&= \\sum_{j=1}^{N} X_j^2 - 2 \\left(\\sum_{j=1}^{N} X_j\\right) + N + 1 \\\\\n",
    "&= \\sum_{j=1}^{N} X_j^2 - 2 \\left(\\sum_{j=1}^{N} X_j\\right) + N + \\left(X^2_{N+1} - 2_{N+1} + (X_{N+1}-1)^2\\right)\\\\\n",
    "    &= \\sum_{j=1}^{N} X_j^2 - 2 \\left(\\sum_{j=1}^{N} X_j\\right) + N + (X_{N+1}-1)^2\n",
    "\\end{align*}\n",
    "</span >"
   ]
  },
  {
   "cell_type": "markdown",
   "id": "4ffdb908",
   "metadata": {},
   "source": [
    "We have then shown that the equation \n",
    "<div style=\"text-align: center;\">\n",
    "<span style=\"color: ;\">$\\sum_{j=1}^{N} (X_j^2-1)^2$</span> = <span style=\"color: ;\">$X_j^2 - 2X_j + N$</span>\n",
    "</div>\n",
    "\n",
    "Is indeed equal for its inductive form.\n",
    "QED"
   ]
  },
  {
   "cell_type": "markdown",
   "id": "8452ffa3",
   "metadata": {},
   "source": [
    "<br> <br><br>\n",
    "# 3.50 ( a-g )\n",
    "\n",
    "<img src=\"a.jpg\" alt=\"Image Alt Text\" width=\"300\" height=\"300\">\n",
    "\n",
    "<b> a.) 20 </b>\n",
    "\n",
    "<img src=\"b.jpg\" alt=\"Image Alt Text\" width=\"300\" height=\"300\">\n",
    "\n",
    "<b> b.) -37 </b>\n",
    "\n",
    "\n",
    "<img src=\"c.jpg\" alt=\"Image Alt Text\" width=\"300\" height=\"300\">\n",
    "\n",
    "<b> a.) 53 </b>\n",
    "\n",
    "<img src=\"d.jpg\" alt=\"Image Alt Text\" width=\"300\" height=\"300\">\n",
    "\n",
    "<b> d.) 6 </b>\n",
    "\n",
    "\n",
    "\n",
    "<img src=\"e.jpg\" alt=\"Image Alt Text\" width=\"300\" height=\"300\">\n",
    "\n",
    "<b> e.) 230 </b>\n",
    "\n",
    "<img src=\"f.jpg\" alt=\"Image Alt Text\" width=\"300\" height=\"300\">\n",
    "\n",
    "<b> f.) 62 </b>\n",
    "\n",
    "\n",
    "<img src=\"g.jpg\" alt=\"Image Alt Text\" width=\"300\" height=\"300\">\n",
    "\n",
    "\n",
    "<span style=\"font-size: larger;\">\n",
    "    <b> g.) </b>\n",
    "    <span style=\"vertical-align: super;\">25</span>\n",
    "    <span>/</span>\n",
    "    <span style=\"vertical-align: sub;\">12</span>\n",
    "</span>\n",
    "<br><br><br><br><br><br>"
   ]
  },
  {
   "cell_type": "markdown",
   "id": "1419faea",
   "metadata": {},
   "source": [
    "<br> <br><br>\n",
    "# 3.90 a"
   ]
  },
  {
   "cell_type": "code",
   "execution_count": 1,
   "id": "7de0a3be",
   "metadata": {
    "scrolled": true
   },
   "outputs": [
    {
     "name": "stdout",
     "output_type": "stream",
     "text": [
      "Product of set: 5040\n",
      "Geometric Mean: 4.140680833465288\n"
     ]
    }
   ],
   "source": [
    "\n",
    "a_SET= [3, 5, 8, 3, 7, 2]\n",
    "a_SET\n",
    "\n",
    "a_SET_length= len(a_SET)\n",
    "a_SET_length\n",
    "\n",
    "prod_a_SET=1\n",
    "\n",
    "for i in a_SET: \n",
    "    prod_a_SET *= i\n",
    "\n",
    "print(\"Product of set:\", prod_a_SET)    \n",
    "Geomean_a_SET= ((prod_a_SET)**(1/a_SET_length))\n",
    "Geomean_a_SET\n",
    "print(\"Geometric Mean:\", Geomean_a_SET)   \n",
    "\n",
    "\n"
   ]
  },
  {
   "cell_type": "code",
   "execution_count": 2,
   "id": "1a5f66e5",
   "metadata": {},
   "outputs": [
    {
     "name": "stdout",
     "output_type": "stream",
     "text": [
      "Arithmetic Mean: 4.666666666666666\n"
     ]
    }
   ],
   "source": [
    "\n",
    "sum_a_SET=0\n",
    "\n",
    "for i in a_SET:  \n",
    "    sum_a_SET += i\n",
    "    \n",
    "Arithmean_a_SET= (((1/a_SET_length)*(sum_a_SET)))\n",
    "print(\"Arithmetic Mean:\", Arithmean_a_SET)  \n",
    "\n"
   ]
  },
  {
   "cell_type": "markdown",
   "id": "c733edd7",
   "metadata": {},
   "source": [
    "<br> <br><br>\n",
    "# 3.90 b"
   ]
  },
  {
   "cell_type": "code",
   "execution_count": 3,
   "id": "491d245a",
   "metadata": {},
   "outputs": [
    {
     "name": "stdout",
     "output_type": "stream",
     "text": [
      "Product of set: 202092516.864\n",
      "Geometric Mean: 45.82579906814073\n"
     ]
    }
   ],
   "source": [
    "\n",
    "b_SET= [28.5, 73.6, 47.2, 31.5, 64.8]\n",
    "b_SET\n",
    "\n",
    "b_SET_length= len(b_SET)\n",
    "b_SET_length\n",
    "\n",
    "prod_b_SET=1\n",
    "\n",
    "for i in b_SET:  \n",
    "    prod_b_SET *= i\n",
    "\n",
    "    \n",
    "print(\"Product of set:\", prod_b_SET)    \n",
    "Geomean_b_SET= ((prod_b_SET)**(1/b_SET_length))\n",
    "print(\"Geometric Mean:\", Geomean_b_SET) \n"
   ]
  },
  {
   "cell_type": "code",
   "execution_count": 4,
   "id": "bb8b4200",
   "metadata": {},
   "outputs": [
    {
     "name": "stdout",
     "output_type": "stream",
     "text": [
      "Arithmetic Mean: 49.120000000000005\n"
     ]
    }
   ],
   "source": [
    "\n",
    "sum_b_SET=0\n",
    "\n",
    "for i in b_SET:  \n",
    "    sum_b_SET += i\n",
    "    \n",
    "Arithmean_b_SET= (((1/b_SET_length)*(sum_b_SET)))\n",
    "\n",
    "print(\"Arithmetic Mean:\", Arithmean_b_SET)  \n"
   ]
  }
 ],
 "metadata": {
  "kernelspec": {
   "display_name": "Python 3 (ipykernel)",
   "language": "python",
   "name": "python3"
  },
  "language_info": {
   "codemirror_mode": {
    "name": "ipython",
    "version": 3
   },
   "file_extension": ".py",
   "mimetype": "text/x-python",
   "name": "python",
   "nbconvert_exporter": "python",
   "pygments_lexer": "ipython3",
   "version": "3.11.3"
  }
 },
 "nbformat": 4,
 "nbformat_minor": 5
}
